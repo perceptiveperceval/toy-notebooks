{
 "cells": [
  {
   "cell_type": "markdown",
   "metadata": {},
   "source": [
    "Since [scipy](https://scipy.org/) 0.19, scientific Python programmers have had access to [`scipy.LowLevelCallable`](https://docs.scipy.org/doc/scipy/reference/generated/scipy.LowLevelCallable.html), a facility that allows you to use native compiled functions (be they written in C, Cython, or even [numba](https://ilovesymposia.com/2017/03/12/scipys-new-lowlevelcallable-is-a-game-changer/)) to speed things like numeric integration and image filtering up.\n",
    "\n",
    "`LowLevelCallable` supports loading functions from a Cython module natively, but this only works if there is a Cython module to load the function from. If you're working in a Jupyter notebook, you might want to use the `%%cython` magic, in which case there *is* no module in the first place.\n",
    "\n",
    "However, with some trickery, we can persuade `%%cython` magic code to hand over its functions to scipy."
   ]
  },
  {
   "cell_type": "markdown",
   "metadata": {},
   "source": [
    "Let's say we want to compute the Gaussian integral numerically.\n",
    "\n",
    "$$f(a) = \\int\\limits_{-\\infty}^{+\\infty}\\,e^{-ax^2}\\,\\mathrm{d}x = \\sqrt{\\frac{\\pi}{a}}$$\n",
    "\n",
    "This is of course a silly example, but it's easy to verify the results are correct seeing as we know the analytical solution."
   ]
  },
  {
   "cell_type": "markdown",
   "metadata": {},
   "source": [
    "A simple approach to integrating this as a pure Python function might look like this:"
   ]
  },
  {
   "cell_type": "code",
   "execution_count": 1,
   "metadata": {},
   "outputs": [],
   "source": [
    "import numpy as np\n",
    "from scipy.integrate import quad\n",
    "\n",
    "def integrand(x, a):\n",
    "    return np.exp(-a*x**2)\n",
    "\n",
    "@np.vectorize\n",
    "def gauss_py(a):\n",
    "    y, abserr = quad(integrand, -np.inf, np.inf, (a,))\n",
    "    return y"
   ]
  },
  {
   "cell_type": "markdown",
   "metadata": {},
   "source": [
    "Here I'm creating a simple Python function representing the integrand, and integrating it up with scipy's [`quad`](https://docs.scipy.org/doc/scipy/reference/generated/scipy.integrate.quad.html#scipy.integrate.quad) function. This is wrapped in a vectorized function to make computing the result for different values of `a` easier."
   ]
  },
  {
   "cell_type": "code",
   "execution_count": 2,
   "metadata": {},
   "outputs": [
    {
     "name": "stdout",
     "output_type": "stream",
     "text": [
      "CPU times: user 3.73 s, sys: 88.4 ms, total: 3.82 s\n",
      "Wall time: 3.71 s\n"
     ]
    }
   ],
   "source": [
    "%%time\n",
    "a = np.linspace(0.1, 10, 10000)\n",
    "\n",
    "py_result = gauss_py(a)"
   ]
  },
  {
   "cell_type": "code",
   "execution_count": 3,
   "metadata": {},
   "outputs": [
    {
     "data": {
      "text/plain": [
       "<matplotlib.legend.Legend at 0x7fe204f15710>"
      ]
     },
     "execution_count": 3,
     "metadata": {},
     "output_type": "execute_result"
    },
    {
     "data": {
      "image/png": "[encoded data removed]",
      "text/plain": [
       "<Figure size 432x288 with 1 Axes>"
      ]
     },
     "metadata": {},
     "output_type": "display_data"
    }
   ],
   "source": [
    "%matplotlib inline\n",
    "from matplotlib import pyplot as plt\n",
    "plt.plot(a, np.sqrt(np.pi/a), label='analytical')\n",
    "plt.plot(a, py_result, label='numerical (py)')\n",
    "plt.title(f'{len(a)} points')\n",
    "plt.xlabel('a')\n",
    "plt.ylabel('Gaussian integral')\n",
    "plt.legend()"
   ]
  },
  {
   "cell_type": "markdown",
   "metadata": {},
   "source": [
    "This works very nicely, but several seconds to compute a mere 10<sup>4</sup> values of this simple integral doesn't bode well for more complex computations (suffice it to say I had a reason to learn how to use Cython for this purpose).\n",
    "\n",
    "There are three ways to construct a ``scipy.LowLevelCallable``:\n",
    "\n",
    " * from a function in a cython module\n",
    " * from a ctypes or cffi function pointer\n",
    " * from a [PyCapsule](https://docs.python.org/3/c-api/capsule.html) – a Python C API facility used to safely pass pointers through Python code\n",
    " \n",
    "The first option is out in a notebook. The second *might* be possible, but using a PyCapsule sounds like a safe bet. So let's do that! As Cython provides us with easy access to the CPython API, we can easily get access to the essential functions `PyCapsule_New` and `PyCapsule_GetPointer`.\n",
    "\n",
    "The main objective is to create an integrand function with the C signature\n",
    "\n",
    "    double func(double x, void *user_data)\n",
    "to pass to `quad()`, with the ``user_data`` pointer containing the parameter `a`. With `quad()`, there's a simpler way to pass in arguments, but for sake of demonstration I'll use the method that works with `dblquad()` and `nquad()` as well."
   ]
  },
  {
   "cell_type": "code",
   "execution_count": 4,
   "metadata": {},
   "outputs": [],
   "source": [
    "%load_ext cython"
   ]
  },
  {
   "cell_type": "code",
   "execution_count": 5,
   "metadata": {},
   "outputs": [],
   "source": [
    "%%cython\n",
    "\n",
    "from cpython.pycapsule cimport (PyCapsule_New,\n",
    "                                PyCapsule_GetPointer)\n",
    "from cpython.mem cimport PyMem_Malloc,  PyMem_Free\n",
    "from libc.math cimport exp\n",
    "import scipy\n",
    "\n",
    "cdef double c_integrand(double x, void* user_data):\n",
    "    \"\"\"The integrand, written in Cython\"\"\"\n",
    "    # Extract a.\n",
    "    # Cython uses array access syntax for pointer dereferencing!\n",
    "    cdef double a = (<double*>user_data)[0]\n",
    "    return exp(-a*x**2)\n",
    "\n",
    "#\n",
    "# Now comes some classic C-style housekeeping\n",
    "#\n",
    "\n",
    "cdef object pack_a(double a):\n",
    "    \"\"\"Wrap 'a' in a PyCapsule for transport.\"\"\"\n",
    "    # Allocate memory where 'a' will be saved for the time being\n",
    "    cdef double* a_ptr = <double*> PyMem_Malloc(sizeof(double))\n",
    "    a_ptr[0] = a\n",
    "    return PyCapsule_New(<void*>a_ptr, NULL, free_a)\n",
    "\n",
    "cdef void free_a(capsule):\n",
    "    \"\"\"Free the memory our value is using up.\"\"\"\n",
    "    PyMem_Free(PyCapsule_GetPointer(capsule, NULL))\n",
    "\n",
    "def get_low_level_callable(double a):\n",
    "    # scipy.LowLevelCallable expects the function signature to\n",
    "    # appear as the \"name\" of the capsule\n",
    "    func_capsule = PyCapsule_New(<void*>c_integrand,\n",
    "                                 \"double (double, void *)\",\n",
    "                                 NULL)\n",
    "    data_capsule = pack_a(a)\n",
    "    \n",
    "    return scipy.LowLevelCallable(func_capsule, data_capsule)"
   ]
  },
  {
   "cell_type": "markdown",
   "metadata": {},
   "source": [
    "At this point, we should be able to use our `LowLevelCallable` from Python code!"
   ]
  },
  {
   "cell_type": "code",
   "execution_count": 6,
   "metadata": {},
   "outputs": [],
   "source": [
    "@np.vectorize\n",
    "def gauss_c(a):\n",
    "    c_integrand = get_low_level_callable(a)\n",
    "    y, abserr = quad(c_integrand, -np.inf, np.inf)\n",
    "    return y"
   ]
  },
  {
   "cell_type": "code",
   "execution_count": 7,
   "metadata": {},
   "outputs": [
    {
     "name": "stdout",
     "output_type": "stream",
     "text": [
      "CPU times: user 154 ms, sys: 4.69 ms, total: 159 ms\n",
      "Wall time: 159 ms\n"
     ]
    }
   ],
   "source": [
    "%%time\n",
    "a = np.linspace(0.1, 10, 10000)\n",
    "\n",
    "c_result = gauss_c(a)"
   ]
  },
  {
   "cell_type": "markdown",
   "metadata": {},
   "source": [
    "As you can see, even for such a simple function, using Cython like this results in a speed-up by more than an order of magnitude, and the results are, of course, the same:"
   ]
  },
  {
   "cell_type": "code",
   "execution_count": 8,
   "metadata": {},
   "outputs": [
    {
     "data": {
      "text/plain": [
       "<matplotlib.legend.Legend at 0x7fe260d48668>"
      ]
     },
     "execution_count": 8,
     "metadata": {},
     "output_type": "execute_result"
    },
    {
     "data": {
      "image/png": "[encoded data removed]",
      "text/plain": [
       "<Figure size 432x288 with 1 Axes>"
      ]
     },
     "metadata": {},
     "output_type": "display_data"
    }
   ],
   "source": [
    "%matplotlib inline\n",
    "from matplotlib import pyplot as plt\n",
    "plt.plot(a, np.sqrt(np.pi/a), label='analytical')\n",
    "plt.plot(a, c_result, label='numerical (Cython)')\n",
    "plt.title(f'{len(a)} points')\n",
    "plt.xlabel('a')\n",
    "plt.ylabel('Gaussian integral')\n",
    "plt.legend()"
   ]
  },
  {
   "cell_type": "markdown",
   "metadata": {},
   "source": [
    "Download this notebook [from GitHub](https://github.com/tjol/toy-notebooks/blob/master/LowLevelCallable%20Notebook.ipynb)."
   ]
  },
  {
   "cell_type": "markdown",
   "metadata": {},
   "source": [
    "<small class=\"license\">\n",
    "<a rel=\"license\" class=\"license-logo\" href=\"http://creativecommons.org/publicdomain/zero/1.0/\"><img alt=\"CC0\" style=\"border-width:0\" src=\"http://i.creativecommons.org/p/zero/1.0/88x31.png\"></a> To the extent possible under law,\n",
    "  <span resource=\"[_:publisher]\" rel=\"dct:publisher\">\n",
    "    <span property=\"dct:title\">Thomas Jollans</span></span>\n",
    "  has waived all copyright and related or neighboring rights to\n",
    "  <b property=\"dct:title\">the example code in this article</b>.\n",
    "This work is published from the\n",
    "<span property=\"vcard:Country\" datatype=\"dct:ISO3166\"\n",
    "      content=\"NL\" about=\"[_:publisher]\">\n",
    "  Netherlands</span>..\n",
    "</small>\n"
   ]
  }
 ],
 "metadata": {
  "Date": "2019-09-04",
  "Title": "LowLevelCallable and %%cython",
  "kernelspec": {
   "display_name": "Python 3",
   "language": "python",
   "name": "python3"
  },
  "language_info": {
   "codemirror_mode": {
    "name": "ipython",
    "version": 3
   },
   "file_extension": ".py",
   "mimetype": "text/x-python",
   "name": "python",
   "nbconvert_exporter": "python",
   "pygments_lexer": "ipython3",
   "version": "3.6.5"
  },
  "slug": "lowlevelcallable-magic"
 },
 "nbformat": 4,
 "nbformat_minor": 2
}
